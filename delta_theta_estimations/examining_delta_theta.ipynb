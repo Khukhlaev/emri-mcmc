{
 "cells": [
  {
   "cell_type": "code",
   "execution_count": 1,
   "id": "1529598b",
   "metadata": {},
   "outputs": [],
   "source": [
    "import numpy as np\n",
    "import matplotlib.pyplot as plt\n",
    "import corner"
   ]
  },
  {
   "cell_type": "code",
   "execution_count": 2,
   "id": "45092923",
   "metadata": {},
   "outputs": [],
   "source": [
    "T = 0.733  # observation time (years)\n",
    "dt = 5.0  # time step (seconds)\n",
    "M = 507236.8057121273 * 1.2  # large mass (solar)\n",
    "a = 0.6  # spin / will be ignored in Schwarzschild waveform\n",
    "mu = 18.063091389346287  # small mass (solar)\n",
    "p0 = 10.752251937834985  # initial separation\n",
    "e0 = 0.3857270761433499  # initial eccentricity\n",
    "x0 = 0.7  # initial cosine of the inclination / will be ignored in Schwarzschild waveform\n",
    "qK = np.pi / 2 - 0.6275167236796371  # polar spin angle\n",
    "phiK = 1.7262549907689677  # azimuthal viewing angle\n",
    "qS = 2.17583780178878  # polar sky angle\n",
    "phiS = 0.7101021513597163  # azimuthal viewing angle\n",
    "dist = 1.4357198958825074 / 2  # distance\n",
    "Phi_phi0 = 0  # initial phase in phi\n",
    "Phi_theta0 = 1.7262549907689677  # initial phase in theta\n",
    "Phi_r0 = 0  # initial phase in r"
   ]
  },
  {
   "cell_type": "code",
   "execution_count": 5,
   "id": "e25a9ec2",
   "metadata": {},
   "outputs": [],
   "source": [
    "true_point = np.array([M, mu, a, p0, e0, x0, dist, np.cos(qS), phiS, np.cos(qK), phiK])"
   ]
  },
  {
   "cell_type": "code",
   "execution_count": 4,
   "id": "2bcf012e",
   "metadata": {},
   "outputs": [],
   "source": [
    "chn_sangria = np.load(\"../chain_files/with_sangria/20000_iter/chain_0.npy\")"
   ]
  },
  {
   "cell_type": "code",
   "execution_count": 8,
   "id": "0c0f47e3",
   "metadata": {},
   "outputs": [],
   "source": [
    "max_likelihood = chn_sangria[np.argmax(chn_sangria[:, -1]), :-1]\n",
    "experimental_delta_theta = max_likelihood - true_point"
   ]
  },
  {
   "cell_type": "code",
   "execution_count": 10,
   "id": "702b2326",
   "metadata": {},
   "outputs": [],
   "source": [
    "Gamma_matrix = np.load(\"save_files/Gamma_matrix.npy\")\n",
    "term_2 = np.load(\"save_files/term_2.npy\") # = (d_i h, delta H)\n",
    "estimated_delta_theta = np.linalg.inv(Gamma_matrix) @ term_2"
   ]
  },
  {
   "cell_type": "code",
   "execution_count": 11,
   "id": "1e368af9",
   "metadata": {},
   "outputs": [],
   "source": [
    "sigma = np.sqrt(np.diag(np.linalg.inv(Gamma_matrix)))"
   ]
  },
  {
   "cell_type": "markdown",
   "id": "1a0cd241",
   "metadata": {},
   "source": [
    "# Comparing experimental $\\Delta\\theta$, estimated $\\Delta\\theta$ and sigma"
   ]
  },
  {
   "cell_type": "code",
   "execution_count": 13,
   "id": "61fc1f65",
   "metadata": {},
   "outputs": [
    {
     "data": {
      "text/plain": [
       "array([2.25929731, 5.96749259, 0.71802399, 5.99933751, 0.41607791,\n",
       "       2.61364492, 1.34272744, 2.13709845, 3.77781443, 1.50373763,\n",
       "       0.59755146])"
      ]
     },
     "execution_count": 13,
     "metadata": {},
     "output_type": "execute_result"
    }
   ],
   "source": [
    "np.abs(experimental_delta_theta / sigma)"
   ]
  },
  {
   "cell_type": "code",
   "execution_count": 14,
   "id": "6ae5786a",
   "metadata": {},
   "outputs": [
    {
     "data": {
      "text/plain": [
       "array([0.07945408, 0.57598766, 2.81596221, 1.23627485, 2.10004446,\n",
       "       0.02039447, 1.29251286, 1.03776104, 0.41507978, 1.32351056,\n",
       "       0.64169758])"
      ]
     },
     "execution_count": 14,
     "metadata": {},
     "output_type": "execute_result"
    }
   ],
   "source": [
    "np.abs(estimated_delta_theta / sigma)"
   ]
  },
  {
   "cell_type": "code",
   "execution_count": 17,
   "id": "25ed0b75",
   "metadata": {},
   "outputs": [
    {
     "data": {
      "text/plain": [
       "array([0.03516761, 0.09652088, 3.92182191, 0.20606856, 5.0472385 ,\n",
       "       0.00780307, 0.96260255, 0.48559346, 0.10987299, 0.88014727,\n",
       "       1.07387835])"
      ]
     },
     "execution_count": 17,
     "metadata": {},
     "output_type": "execute_result"
    }
   ],
   "source": [
    "np.abs(estimated_delta_theta / experimental_delta_theta)"
   ]
  },
  {
   "cell_type": "code",
   "execution_count": null,
   "id": "7ad78159",
   "metadata": {},
   "outputs": [],
   "source": []
  }
 ],
 "metadata": {
  "kernelspec": {
   "display_name": "Python 3 (ipykernel)",
   "language": "python",
   "name": "python3"
  },
  "language_info": {
   "codemirror_mode": {
    "name": "ipython",
    "version": 3
   },
   "file_extension": ".py",
   "mimetype": "text/x-python",
   "name": "python",
   "nbconvert_exporter": "python",
   "pygments_lexer": "ipython3",
   "version": "3.8.13"
  }
 },
 "nbformat": 4,
 "nbformat_minor": 5
}
